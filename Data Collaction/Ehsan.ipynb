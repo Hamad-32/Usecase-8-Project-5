{
 "cells": [
  {
   "cell_type": "code",
   "execution_count": 1,
   "metadata": {},
   "outputs": [],
   "source": [
    "import requests\n",
    "from bs4 import BeautifulSoup\n",
    "from selenium import webdriver  \n",
    "import pandas as pd\n",
    "import re"
   ]
  },
  {
   "cell_type": "code",
   "execution_count": 46,
   "metadata": {},
   "outputs": [
    {
     "name": "stdout",
     "output_type": "stream",
     "text": [
      "200\n"
     ]
    }
   ],
   "source": [
    "url = 'https://ehsan.sa/projects/0/48632?amount=null'\n",
    "page = requests.get(url)\n",
    "print(page.status_code)"
   ]
  },
  {
   "cell_type": "code",
   "execution_count": 47,
   "metadata": {},
   "outputs": [],
   "source": [
    "driver = webdriver.Chrome()\n",
    "# request the page \n",
    "driver.get(url)\n",
    "\n",
    "        # extract the body and parse it\n",
    "soup = BeautifulSoup(driver.page_source, \"html.parser\")\n",
    "driver.quit()"
   ]
  },
  {
   "cell_type": "code",
   "execution_count": 16,
   "metadata": {},
   "outputs": [
    {
     "data": {
      "text/plain": [
       "'المشاريع - منصة إحسان '"
      ]
     },
     "execution_count": 16,
     "metadata": {},
     "output_type": "execute_result"
    }
   ],
   "source": [
    "page_title = soup.title.text # gets you the text of the <title>(...)</title>\n",
    "page_title"
   ]
  },
  {
   "cell_type": "code",
   "execution_count": 57,
   "metadata": {},
   "outputs": [
    {
     "data": {
      "text/plain": [
       "['300,000ر.س',\n",
       " '0ر.س',\n",
       " '20000 مستفيد',\n",
       " 'المواطنون والمقيمون بالمملكة',\n",
       " 'مكة المكرمة']"
      ]
     },
     "execution_count": 57,
     "metadata": {},
     "output_type": "execute_result"
    }
   ],
   "source": [
    "# extract car names\n",
    "divs = soup.find_all('label', {'class':\"h6\"})\n",
    "lis = []\n",
    "for i in divs:\n",
    "    lis.append(i.text)\n",
    "lis"
   ]
  },
  {
   "cell_type": "code",
   "execution_count": 62,
   "metadata": {},
   "outputs": [
    {
     "data": {
      "text/plain": [
       "[]"
      ]
     },
     "execution_count": 62,
     "metadata": {},
     "output_type": "execute_result"
    }
   ],
   "source": [
    "case_number = soup.find_all('span', {'class': 'font-ehsan-Bold text-neutral-7'})#.text.strip()\n",
    "#date = soup.find_all('span', {'class': 'font-ehsan-Bold text-neutral-7'})[1].text.strip()\n",
    "case_number"
   ]
  },
  {
   "cell_type": "code",
   "execution_count": 58,
   "metadata": {},
   "outputs": [
    {
     "data": {
      "text/plain": [
       "[' 1', '16,226', '20,000']"
      ]
     },
     "execution_count": 58,
     "metadata": {},
     "output_type": "execute_result"
    }
   ],
   "source": [
    "# extract car names\n",
    "divs = soup.find_all('span', {'class':\"h5 me-2\"})\n",
    "lis = []\n",
    "for i in divs:\n",
    "    lis.append(i.text)\n",
    "lis"
   ]
  },
  {
   "cell_type": "code",
   "execution_count": 80,
   "metadata": {},
   "outputs": [
    {
     "data": {
      "text/plain": [
       "'جمعية البر الخيرية بالأبواء'"
      ]
     },
     "execution_count": 80,
     "metadata": {},
     "output_type": "execute_result"
    }
   ],
   "source": [
    "# extract car names\n",
    "divs = soup.find_all('p', {'class':\"fs-14px h6 mb-0 ms-2 text-neutral-5\"})[0].text.strip()\n",
    "divs\n"
   ]
  },
  {
   "cell_type": "code",
   "execution_count": 21,
   "metadata": {},
   "outputs": [
    {
     "name": "stdout",
     "output_type": "stream",
     "text": [
      "سداد إيجارات المتعففين\n",
      "وجبات الإفطار في ساحات الحرم المكي\n",
      "وجبات السحور للصائمين\n",
      "وجبات الإفطار لضيوف الرحمن\n",
      "ترميم مساكن المتعففين\n",
      "عملية في العمود الفقري لمريضة متعففة\n",
      "سقيا الماء للأسر المتعففة\n",
      "عملية في الفقرات العنقية لمريض متعفف\n",
      "إفطار الصائمين\n"
     ]
    }
   ],
   "source": [
    "# extract car names\n",
    "divs = soup.find_all('a', {'class':\"text-truncate card-title h6 px-2 py-1 w-max-content text-decoration-none\"})\n",
    "for i in divs:\n",
    "    print(i.text)"
   ]
  },
  {
   "cell_type": "code",
   "execution_count": 42,
   "metadata": {},
   "outputs": [
    {
     "name": "stdout",
     "output_type": "stream",
     "text": [
      "['رقم', 'الحالة', 'P49606']\n",
      "['تاريخ', 'الاكتمال', '07/03/2025']\n",
      "['رقم', 'الحالة', 'P49631']\n",
      "['تاريخ', 'الاكتمال', '07/03/2025']\n",
      "['رقم', 'الحالة', 'P49553']\n",
      "['تاريخ', 'الاكتمال', '07/03/2025']\n",
      "['رقم', 'الحالة', 'P49625']\n",
      "['تاريخ', 'الاكتمال', '07/03/2025']\n",
      "['رقم', 'الحالة', 'P49618']\n",
      "['تاريخ', 'الاكتمال', '07/03/2025']\n",
      "['رقم', 'الحالة', 'P49626']\n",
      "['تاريخ', 'الاكتمال', '07/03/2025']\n",
      "['رقم', 'الحالة', 'P49584']\n",
      "['تاريخ', 'الاكتمال', '07/03/2025']\n",
      "['رقم', 'الحالة', 'P49623']\n",
      "['تاريخ', 'الاكتمال', '07/03/2025']\n",
      "['رقم', 'الحالة', 'P49620']\n",
      "['تاريخ', 'الاكتمال', '07/03/2025']\n"
     ]
    }
   ],
   "source": [
    "\n",
    "# extract car names\n",
    "divs = soup.find_all('div', {'class':\"d-flex flex-column col\"})\n",
    "for i in divs:\n",
    "    print(i.text.split())"
   ]
  },
  {
   "cell_type": "code",
   "execution_count": 38,
   "metadata": {},
   "outputs": [
    {
     "name": "stdout",
     "output_type": "stream",
     "text": [
      "P49606\n",
      "07/03/2025\n",
      "P49631\n",
      "07/03/2025\n",
      "P49553\n",
      "07/03/2025\n",
      "P49625\n",
      "07/03/2025\n",
      "P49618\n",
      "07/03/2025\n",
      "P49626\n",
      "07/03/2025\n",
      "P49584\n",
      "07/03/2025\n",
      "P49623\n",
      "07/03/2025\n",
      "P49620\n",
      "07/03/2025\n"
     ]
    }
   ],
   "source": [
    "\n",
    "divs = soup.find_all('span', {'class':\"font-ehsan-Bold text-neutral-7\"})\n",
    "for i in divs:\n",
    "    print(i.text)"
   ]
  },
  {
   "cell_type": "code",
   "execution_count": 11,
   "metadata": {},
   "outputs": [],
   "source": [
    "#Define the DataFrame\n",
    "columns = ['Case Number','Project Names', 'Amount', 'Date',   \n",
    "             'Beneficiaries', 'Beneficiary type',  \n",
    "            'Number of donations', 'Partner','Location','Details URL',]\n",
    "df = pd.DataFrame(columns=columns)"
   ]
  },
  {
   "cell_type": "code",
   "execution_count": null,
   "metadata": {},
   "outputs": [],
   "source": [
    "import pandas as pd\n",
    "from selenium import webdriver\n",
    "from selenium.webdriver.chrome.service import Service\n",
    "from bs4 import BeautifulSoup\n",
    "import time\n",
    "\n",
    "driver = webdriver.Chrome()\n",
    "\n",
    "\n",
    "# Base URL\n",
    "base_url = \"https://ehsan.sa/completed?initiativeType=CompletedProject&p=\"\n",
    "\n",
    "# Loop through multiple pages\n",
    "for i in range(1, 166):  # Adjust the range as needed\n",
    "    url = f\"{base_url}{i}\"\n",
    "    driver.get(url)\n",
    "    time.sleep(2)  # Wait for the page to load\n",
    "\n",
    "    soup = BeautifulSoup(driver.page_source, \"html.parser\")\n",
    "\n",
    "    # Extract project containers\n",
    "    project_containers = soup.find_all('div', {'class': 'bg-neutral-s d-flex justify-content-between p-3 mb-3'})\n",
    "    \n",
    "    for container in project_containers:\n",
    "        # Extract project name\n",
    "        project_name = container.find_previous('div', {'class': 'align-items-center d-flex justify-content-between mb-3 w-100'}).text.strip()\n",
    "        \n",
    "        # Extract case number and date\n",
    "        case_number = container.find('span', {'class': 'font-ehsan-Bold text-neutral-7'}).text.strip()\n",
    "        date = container.find_all('span', {'class': 'font-ehsan-Bold text-neutral-7'})[1].text.strip()\n",
    "        \n",
    "        # Extract the \"عرض التفاصيل\" link\n",
    "        details_link = container.find_next('a', text='عرض التفاصيل', href=True)\n",
    "        if details_link:\n",
    "            full_details_url = f\"https://ehsan.sa{details_link['href']}\"  # Construct full URL\n",
    "        else:\n",
    "            full_details_url = \"Link not found\"\n",
    "\n",
    "\n",
    "        \n",
    "        # Navigate to the details URL to scrape additional data\n",
    "        if full_details_url != \"Link not found\":\n",
    "            driver.get(full_details_url)\n",
    "            time.sleep(2)  # Wait for the page to load\n",
    "            details_soup = BeautifulSoup(driver.page_source, \"html.parser\")\n",
    "            details = details_soup.find_all('label', {'class':\"h6\"})\n",
    "            lis = []\n",
    "            for i in details:\n",
    "                lis.append(i.text)\n",
    "                \n",
    "            amount = lis[0]\n",
    "            beneficiary_type = lis[3]\n",
    "            location = lis[4]\n",
    "\n",
    "            details1 = details_soup.find_all('span', {'class':\"h5 me-2\"})\n",
    "            lis = []\n",
    "            for i in details1:\n",
    "                lis.append(i.text)\n",
    "                \n",
    "            donations = lis[1]\n",
    "            beneficiaries = lis[2]\n",
    "\n",
    "            # Extract Name of Partner\n",
    "            partner = details_soup.find_all('p', {'class': 'fs-14px h6 mb-0 ms-2 text-neutral-5'})[0].text.strip()\n",
    "\n",
    "\n",
    "        \n",
    "        # Store the data in the DataFrame\n",
    "        new_row_df = pd.DataFrame({\n",
    "            'Case Number': [case_number],\n",
    "            'Project Names': [project_name],\n",
    "            'Date': [date],\n",
    "            'Amount': amount,\n",
    "            'Details URL': [full_details_url],\n",
    "            'Beneficiaries': beneficiaries,\n",
    "            'Beneficiary type': beneficiary_type,\n",
    "            'Number of donations': donations,\n",
    "            'Partner': partner,\n",
    "            'Location': location,\n",
    "            \n",
    "            \n",
    "        })\n",
    "        df = pd.concat([df, new_row_df], ignore_index=True)\n",
    "\n",
    "driver.quit()"
   ]
  },
  {
   "cell_type": "code",
   "execution_count": 29,
   "metadata": {},
   "outputs": [
    {
     "data": {
      "text/html": [
       "<div>\n",
       "<style scoped>\n",
       "    .dataframe tbody tr th:only-of-type {\n",
       "        vertical-align: middle;\n",
       "    }\n",
       "\n",
       "    .dataframe tbody tr th {\n",
       "        vertical-align: top;\n",
       "    }\n",
       "\n",
       "    .dataframe thead th {\n",
       "        text-align: right;\n",
       "    }\n",
       "</style>\n",
       "<table border=\"1\" class=\"dataframe\">\n",
       "  <thead>\n",
       "    <tr style=\"text-align: right;\">\n",
       "      <th></th>\n",
       "      <th>Case Number</th>\n",
       "      <th>Project Names</th>\n",
       "      <th>Amount</th>\n",
       "      <th>Date</th>\n",
       "      <th>Beneficiaries</th>\n",
       "      <th>Beneficiary type</th>\n",
       "      <th>Number of donations</th>\n",
       "      <th>Partner</th>\n",
       "      <th>Location</th>\n",
       "      <th>Details URL</th>\n",
       "    </tr>\n",
       "  </thead>\n",
       "  <tbody>\n",
       "    <tr>\n",
       "      <th>0</th>\n",
       "      <td>P49631</td>\n",
       "      <td>وجبات الإفطار في ساحات الحرم المكي</td>\n",
       "      <td>300,000ر.س</td>\n",
       "      <td>07/03/2025</td>\n",
       "      <td>20,000</td>\n",
       "      <td>المواطنون والمقيمون بالمملكة</td>\n",
       "      <td>16,226</td>\n",
       "      <td>جمعية البر الخيرية بالأبواء</td>\n",
       "      <td>مكة المكرمة</td>\n",
       "      <td>https://ehsan.sa/projects/0/48632?amount=null</td>\n",
       "    </tr>\n",
       "    <tr>\n",
       "      <th>1</th>\n",
       "      <td>P49553</td>\n",
       "      <td>وجبات السحور للصائمين</td>\n",
       "      <td>280,000ر.س</td>\n",
       "      <td>07/03/2025</td>\n",
       "      <td>20,000</td>\n",
       "      <td>المواطنون والمقيمون بالمملكة</td>\n",
       "      <td>24,403</td>\n",
       "      <td>جمعية البر الخيرية بالنويعمة</td>\n",
       "      <td>وادى الدواسر</td>\n",
       "      <td>https://ehsan.sa/projects/0/48554?amount=null</td>\n",
       "    </tr>\n",
       "    <tr>\n",
       "      <th>2</th>\n",
       "      <td>P49625</td>\n",
       "      <td>وجبات الإفطار لضيوف الرحمن</td>\n",
       "      <td>300,000ر.س</td>\n",
       "      <td>07/03/2025</td>\n",
       "      <td>30,000</td>\n",
       "      <td>المواطنون والمقيمون بالمملكة</td>\n",
       "      <td>11,930</td>\n",
       "      <td>جمعية البر الخيرية بالحوية</td>\n",
       "      <td>السيل الكبير</td>\n",
       "      <td>https://ehsan.sa/projects/0/48626?amount=null</td>\n",
       "    </tr>\n",
       "    <tr>\n",
       "      <th>3</th>\n",
       "      <td>P49618</td>\n",
       "      <td>ترميم مساكن المتعففين</td>\n",
       "      <td>300,000ر.س</td>\n",
       "      <td>07/03/2025</td>\n",
       "      <td>11</td>\n",
       "      <td>المواطنون</td>\n",
       "      <td>9,378</td>\n",
       "      <td>الجمعية الخيرية ببللحمر</td>\n",
       "      <td>باللحمر</td>\n",
       "      <td>https://ehsan.sa/projects/0/48619?amount=null</td>\n",
       "    </tr>\n",
       "    <tr>\n",
       "      <th>4</th>\n",
       "      <td>P49626</td>\n",
       "      <td>عملية في العمود الفقري لمريضة متعففة</td>\n",
       "      <td>24,000ر.س</td>\n",
       "      <td>07/03/2025</td>\n",
       "      <td>1</td>\n",
       "      <td>المقيمون بالمملكة</td>\n",
       "      <td>145</td>\n",
       "      <td>جمعية رحماء الصحية</td>\n",
       "      <td>الرياض</td>\n",
       "      <td>https://ehsan.sa/projects/0/48627?amount=null</td>\n",
       "    </tr>\n",
       "    <tr>\n",
       "      <th>...</th>\n",
       "      <td>...</td>\n",
       "      <td>...</td>\n",
       "      <td>...</td>\n",
       "      <td>...</td>\n",
       "      <td>...</td>\n",
       "      <td>...</td>\n",
       "      <td>...</td>\n",
       "      <td>...</td>\n",
       "      <td>...</td>\n",
       "      <td>...</td>\n",
       "    </tr>\n",
       "    <tr>\n",
       "      <th>1480</th>\n",
       "      <td>P47450</td>\n",
       "      <td>توفير البطانيات للأسر المحتاجة</td>\n",
       "      <td>103,680ر.س</td>\n",
       "      <td>25/01/2024</td>\n",
       "      <td>432</td>\n",
       "      <td>المواطنون</td>\n",
       "      <td>7,685</td>\n",
       "      <td>جمعية الجرين الأهلية</td>\n",
       "      <td>الجرين</td>\n",
       "      <td>https://ehsan.sa/projects/0/46451?amount=null</td>\n",
       "    </tr>\n",
       "    <tr>\n",
       "      <th>1481</th>\n",
       "      <td>P47439</td>\n",
       "      <td>غرس الأشجار لمكافحة التصحر</td>\n",
       "      <td>80,000ر.س</td>\n",
       "      <td>25/01/2024</td>\n",
       "      <td>1,000</td>\n",
       "      <td>المقيمون بالمملكة</td>\n",
       "      <td>8,673</td>\n",
       "      <td>أجيالنا التطوعية</td>\n",
       "      <td>النماص</td>\n",
       "      <td>https://ehsan.sa/projects/0/46440?amount=null</td>\n",
       "    </tr>\n",
       "    <tr>\n",
       "      <th>1482</th>\n",
       "      <td>P47441</td>\n",
       "      <td>تأثيث منازل المحتاجين</td>\n",
       "      <td>75,000ر.س</td>\n",
       "      <td>25/01/2024</td>\n",
       "      <td>3</td>\n",
       "      <td>المواطنون</td>\n",
       "      <td>4,777</td>\n",
       "      <td>جمعية البر الاهلية بباشوت</td>\n",
       "      <td>باشوت</td>\n",
       "      <td>https://ehsan.sa/projects/0/46442?amount=null</td>\n",
       "    </tr>\n",
       "    <tr>\n",
       "      <th>1483</th>\n",
       "      <td>P47317</td>\n",
       "      <td>دعم الأسر المنتجة</td>\n",
       "      <td>200,000ر.س</td>\n",
       "      <td>25/01/2024</td>\n",
       "      <td>10</td>\n",
       "      <td>المواطنون</td>\n",
       "      <td>18,792</td>\n",
       "      <td>جمعية التنمية الأهلية بالشقيق</td>\n",
       "      <td>الشقيق</td>\n",
       "      <td>https://ehsan.sa/projects/0/46318?amount=null</td>\n",
       "    </tr>\n",
       "    <tr>\n",
       "      <th>1484</th>\n",
       "      <td>P47306</td>\n",
       "      <td>دعم الأسر المحتاجة</td>\n",
       "      <td>250,000ر.س</td>\n",
       "      <td>25/01/2024</td>\n",
       "      <td>250</td>\n",
       "      <td>المواطنون</td>\n",
       "      <td>16,538</td>\n",
       "      <td>جمعية البر والخدمات الاجتماعية بمركز ترج</td>\n",
       "      <td>بيشة</td>\n",
       "      <td>https://ehsan.sa/projects/0/46307?amount=null</td>\n",
       "    </tr>\n",
       "  </tbody>\n",
       "</table>\n",
       "<p>1485 rows × 10 columns</p>\n",
       "</div>"
      ],
      "text/plain": [
       "     Case Number                         Project Names      Amount  \\\n",
       "0         P49631    وجبات الإفطار في ساحات الحرم المكي  300,000ر.س   \n",
       "1         P49553                 وجبات السحور للصائمين  280,000ر.س   \n",
       "2         P49625            وجبات الإفطار لضيوف الرحمن  300,000ر.س   \n",
       "3         P49618                 ترميم مساكن المتعففين  300,000ر.س   \n",
       "4         P49626  عملية في العمود الفقري لمريضة متعففة   24,000ر.س   \n",
       "...          ...                                   ...         ...   \n",
       "1480      P47450        توفير البطانيات للأسر المحتاجة  103,680ر.س   \n",
       "1481      P47439            غرس الأشجار لمكافحة التصحر   80,000ر.س   \n",
       "1482      P47441                 تأثيث منازل المحتاجين   75,000ر.س   \n",
       "1483      P47317                     دعم الأسر المنتجة  200,000ر.س   \n",
       "1484      P47306                    دعم الأسر المحتاجة  250,000ر.س   \n",
       "\n",
       "            Date Beneficiaries              Beneficiary type  \\\n",
       "0     07/03/2025        20,000  المواطنون والمقيمون بالمملكة   \n",
       "1     07/03/2025        20,000  المواطنون والمقيمون بالمملكة   \n",
       "2     07/03/2025        30,000  المواطنون والمقيمون بالمملكة   \n",
       "3     07/03/2025            11                     المواطنون   \n",
       "4     07/03/2025             1             المقيمون بالمملكة   \n",
       "...          ...           ...                           ...   \n",
       "1480  25/01/2024           432                     المواطنون   \n",
       "1481  25/01/2024         1,000             المقيمون بالمملكة   \n",
       "1482  25/01/2024             3                     المواطنون   \n",
       "1483  25/01/2024            10                     المواطنون   \n",
       "1484  25/01/2024           250                     المواطنون   \n",
       "\n",
       "     Number of donations                                   Partner  \\\n",
       "0                 16,226               جمعية البر الخيرية بالأبواء   \n",
       "1                 24,403              جمعية البر الخيرية بالنويعمة   \n",
       "2                 11,930                جمعية البر الخيرية بالحوية   \n",
       "3                  9,378                   الجمعية الخيرية ببللحمر   \n",
       "4                    145                        جمعية رحماء الصحية   \n",
       "...                  ...                                       ...   \n",
       "1480               7,685                      جمعية الجرين الأهلية   \n",
       "1481               8,673                          أجيالنا التطوعية   \n",
       "1482               4,777                 جمعية البر الاهلية بباشوت   \n",
       "1483              18,792             جمعية التنمية الأهلية بالشقيق   \n",
       "1484              16,538  جمعية البر والخدمات الاجتماعية بمركز ترج   \n",
       "\n",
       "          Location                                    Details URL  \n",
       "0      مكة المكرمة  https://ehsan.sa/projects/0/48632?amount=null  \n",
       "1     وادى الدواسر  https://ehsan.sa/projects/0/48554?amount=null  \n",
       "2     السيل الكبير  https://ehsan.sa/projects/0/48626?amount=null  \n",
       "3          باللحمر  https://ehsan.sa/projects/0/48619?amount=null  \n",
       "4           الرياض  https://ehsan.sa/projects/0/48627?amount=null  \n",
       "...            ...                                            ...  \n",
       "1480        الجرين  https://ehsan.sa/projects/0/46451?amount=null  \n",
       "1481        النماص  https://ehsan.sa/projects/0/46440?amount=null  \n",
       "1482         باشوت  https://ehsan.sa/projects/0/46442?amount=null  \n",
       "1483        الشقيق  https://ehsan.sa/projects/0/46318?amount=null  \n",
       "1484          بيشة  https://ehsan.sa/projects/0/46307?amount=null  \n",
       "\n",
       "[1485 rows x 10 columns]"
      ]
     },
     "execution_count": 29,
     "metadata": {},
     "output_type": "execute_result"
    }
   ],
   "source": [
    "df\n"
   ]
  },
  {
   "cell_type": "code",
   "execution_count": 28,
   "metadata": {},
   "outputs": [],
   "source": [
    "# Data from 23/4/2024\n",
    "df.to_csv('data.csv')"
   ]
  },
  {
   "cell_type": "code",
   "execution_count": null,
   "metadata": {},
   "outputs": [],
   "source": []
  }
 ],
 "metadata": {
  "kernelspec": {
   "display_name": "Python 3",
   "language": "python",
   "name": "python3"
  },
  "language_info": {
   "codemirror_mode": {
    "name": "ipython",
    "version": 3
   },
   "file_extension": ".py",
   "mimetype": "text/x-python",
   "name": "python",
   "nbconvert_exporter": "python",
   "pygments_lexer": "ipython3",
   "version": "3.10.8"
  }
 },
 "nbformat": 4,
 "nbformat_minor": 2
}
